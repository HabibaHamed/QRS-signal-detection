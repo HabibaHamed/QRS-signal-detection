{
 "cells": [
  {
   "cell_type": "markdown",
   "metadata": {},
   "source": [
    "#                                                  Assignment 1 \n",
    "\n",
    "## Habiba Elhussein             -  ID: 37-0846                 -   T.14\n",
    "## Mayar Lotfy                       - ID: 37-4473                  -   T.13"
   ]
  },
  {
   "cell_type": "markdown",
   "metadata": {},
   "source": [
    "##### Libraries Installation"
   ]
  },
  {
   "cell_type": "code",
   "execution_count": 47,
   "metadata": {},
   "outputs": [
    {
     "name": "stdout",
     "output_type": "stream",
     "text": [
      "Requirement already satisfied: matplotlib in c:\\users\\mayar\\anaconda3\\envs\\jmatlab\\lib\\site-packages (3.0.3)\n",
      "Requirement already satisfied: kiwisolver>=1.0.1 in c:\\users\\mayar\\anaconda3\\envs\\jmatlab\\lib\\site-packages (from matplotlib) (1.1.0)\n",
      "Requirement already satisfied: python-dateutil>=2.1 in c:\\users\\mayar\\anaconda3\\envs\\jmatlab\\lib\\site-packages (from matplotlib) (2.8.1)\n",
      "Requirement already satisfied: numpy>=1.10.0 in c:\\users\\mayar\\anaconda3\\envs\\jmatlab\\lib\\site-packages (from matplotlib) (1.18.1)\n",
      "Requirement already satisfied: cycler>=0.10 in c:\\users\\mayar\\anaconda3\\envs\\jmatlab\\lib\\site-packages (from matplotlib) (0.10.0)\n",
      "Requirement already satisfied: pyparsing!=2.0.4,!=2.1.2,!=2.1.6,>=2.0.1 in c:\\users\\mayar\\anaconda3\\envs\\jmatlab\\lib\\site-packages (from matplotlib) (2.4.6)\n",
      "Requirement already satisfied: setuptools in c:\\users\\mayar\\anaconda3\\envs\\jmatlab\\lib\\site-packages (from kiwisolver>=1.0.1->matplotlib) (40.2.0)\n",
      "Requirement already satisfied: six>=1.5 in c:\\users\\mayar\\anaconda3\\envs\\jmatlab\\lib\\site-packages (from python-dateutil>=2.1->matplotlib) (1.11.0)\n",
      "Requirement already satisfied: matlab in c:\\users\\mayar\\anaconda3\\envs\\jmatlab\\lib\\site-packages (0.1)\n",
      "Requirement already satisfied: numpy in c:\\users\\mayar\\anaconda3\\envs\\jmatlab\\lib\\site-packages (1.18.1)\n",
      "Requirement already satisfied: scipy in c:\\users\\mayar\\anaconda3\\envs\\jmatlab\\lib\\site-packages (1.4.1)\n",
      "Requirement already satisfied: numpy>=1.13.3 in c:\\users\\mayar\\anaconda3\\envs\\jmatlab\\lib\\site-packages (from scipy) (1.18.1)\n",
      "Collecting pillow\n",
      "  Downloading Pillow-7.0.0-cp35-cp35m-win_amd64.whl (2.0 MB)\n",
      "Installing collected packages: pillow\n",
      "Successfully installed pillow-7.0.0\n"
     ]
    }
   ],
   "source": [
    "! pip install matplotlib\n",
    "! pip install matlab\n",
    "! pip install numpy\n",
    "! pip install scipy\n",
    "! pip install pillow\n"
   ]
  },
  {
   "cell_type": "code",
   "execution_count": 53,
   "metadata": {},
   "outputs": [],
   "source": [
    "import numpy as np\n",
    "import matplotlib\n",
    "import matplotlib.pyplot as plt\n",
    "import matlab.engine\n",
    "import sys\n",
    "from scipy import signal\n",
    "from PIL import Image\n",
    "\n",
    "eng = matlab.engine.start_matlab()\n"
   ]
  },
  {
   "cell_type": "markdown",
   "metadata": {},
   "source": [
    "## Helper Functions:"
   ]
  },
  {
   "cell_type": "code",
   "execution_count": 3,
   "metadata": {},
   "outputs": [],
   "source": [
    "def writeFile(fileName, beats,time):\n",
    "    with open(fileName, 'w') as f:\n",
    "        for x in range(0, len(time)):\n",
    "            f.write(\"Beat Number : '{0}' is missing in Timpe Stamp '{1}' \\n\".format( beats[x] , time[x]))"
   ]
  },
  {
   "cell_type": "code",
   "execution_count": 4,
   "metadata": {},
   "outputs": [],
   "source": [
    "def plot_fig(time,Data,outputFileName,peaks=None) :\n",
    "    if(peaks is None):\n",
    "        eng.plot(matlab.double(time.tolist()),matlab.double(Data.tolist()))  #create a plot\n",
    "        eng.xlabel('Time in mSecs')\n",
    "        eng.ylabel('Signal voltage')\n",
    "        eng.savefig(outputFileName+\".fig\",nargout=0)    #save current figure to \"foo.fig\"\n",
    "    else:\n",
    "        eng.plot(matlab.double(time.tolist()),matlab.double(Data.tolist()), '-*' , 'MarkerIndices', matlab.double(peaks.tolist()))\n",
    "        eng.xlabel('Time in mSecs')\n",
    "        eng.ylabel('Signal voltage')\n",
    "        eng.savefig(outputFileName+\".fig\",nargout=0) \n",
    "#eng.close()  "
   ]
  },
  {
   "cell_type": "code",
   "execution_count": 5,
   "metadata": {},
   "outputs": [],
   "source": [
    "def readData(fileName,N=None):\n",
    "    lineList = list()\n",
    "   \n",
    "    lineList = [line.rstrip('\\n') for line in open(fileName)]\n",
    "\n",
    "    x = np.array(lineList)\n",
    "    DataN = x.astype(np.float)\n",
    "\n",
    "    if(N is None):\n",
    "        N = len(DataN)\n",
    "   \n",
    "    DataN  = DataN[0:N]\n",
    "    DataN.shape\n",
    "    DataBcp =DataN\n",
    "    return DataN\n",
    "    "
   ]
  },
  {
   "cell_type": "markdown",
   "metadata": {},
   "source": [
    "## Steps for Detecting the R wave:"
   ]
  },
  {
   "cell_type": "markdown",
   "metadata": {},
   "source": [
    "#### 1. Notch filter: To remove Powerline noise (band stop filter for 50 HZ.)"
   ]
  },
  {
   "cell_type": "code",
   "execution_count": 6,
   "metadata": {},
   "outputs": [],
   "source": [
    "# Required input defintions are as follows;\n",
    "# band:   The bandwidth around the centerline freqency that you wish to filter\n",
    "# freq:   The centerline frequency to be filtered\n",
    "# ripple: The maximum passband ripple that is allowed in db\n",
    "# order:  The filter order.  For FIR notch filters this is best set to 2 or 3,\n",
    "#         IIR filters are best suited for high values of order.  This algorithm\n",
    "#         is hard coded to FIR filters\n",
    "# filter_type: 'butter', 'bessel', 'cheby1', 'cheby2', 'ellip'\n",
    "# data:         the data to be filtered\n",
    "def Implement_Notch_Filter(fs, band, freq, ripple, order, filter_type, data):\n",
    "    from scipy.signal import iirfilter\n",
    "\n",
    "    nyq  = fs/2.0\n",
    "    low  = freq - band/2.0\n",
    "    high = freq + band/2.0\n",
    "    low  = low/nyq\n",
    "    high = high/nyq\n",
    "    b, a = iirfilter(order, [low, high], rp=ripple, btype='bandstop',\n",
    "                     analog=False, ftype=filter_type)\n",
    "    filtered_data = signal.lfilter(b, a, data)\n",
    "    return filtered_data"
   ]
  },
  {
   "cell_type": "code",
   "execution_count": 7,
   "metadata": {},
   "outputs": [],
   "source": [
    " def notch_filter(data, lowcut, highcut, fs, order):\n",
    "        nyq = 0.5 * fs\n",
    "        low = lowcut / nyq\n",
    "        high = highcut / nyq\n",
    "\n",
    "        i, u = signal.butter(order, [low, high], btype='bandstop')\n",
    "        y = signal.lfilter(i, u, data)\n",
    "        #print(len(y))\n",
    "        return y"
   ]
  },
  {
   "cell_type": "code",
   "execution_count": 8,
   "metadata": {},
   "outputs": [],
   "source": [
    "# ignore this cell\n",
    "\n",
    "def notch_filter_temp(inputECG):\n",
    "    #outputECG = [x for x in inputECG if(x <0.5)]\n",
    "   # outputECG = inputECG[np.logical_and(inputECG<0.50,inputECG>0.5)]\n",
    "   \n",
    "   # outputECG = inputECG[np.logical_and(inputECG<=0.49,inputECG>=0.50)]\n",
    "   # Do a Fourier transform on the signal\n",
    "\n",
    "    tx  = np.fft.fft(inputECG);\n",
    "    #print(len(tx))\n",
    "    #outputECG = tx[np.logical_and(tx<=0.49,tx>=0.50)]\n",
    "    itx = np.fft.ifft(tx);\n",
    "    \n",
    "    print(len(itx))\n",
    "    return np.array(itx)\n"
   ]
  },
  {
   "cell_type": "markdown",
   "metadata": {},
   "source": [
    "#### 2. Band Pass filter: To remove  noise (band pass filter from 0.1-45 HZ )"
   ]
  },
  {
   "cell_type": "code",
   "execution_count": 9,
   "metadata": {},
   "outputs": [],
   "source": [
    "#ignore this cell\n",
    "def band_filter(inputECG):\n",
    "   #outputECG = [x for x in inputECG if(x !=0.5)]\n",
    "    \n",
    "    outputECG = inputECG[np.logical_and(inputECG>=0.01,inputECG<0.45)]\n",
    "    #print(len(outputECG))\n",
    "    return outputECG\n"
   ]
  },
  {
   "cell_type": "code",
   "execution_count": 10,
   "metadata": {},
   "outputs": [],
   "source": [
    "def butter_bandpass(lowcut, highcut, fs, order=5):\n",
    "    nyq = 0.5 * fs\n",
    "    low = lowcut / nyq\n",
    "    high = highcut / nyq\n",
    "    b, a = signal.butter(order, [low, high], btype='band')\n",
    "    return b, a\n",
    "\n",
    "def butter_bandpass_filter(data, lowcut, highcut, fs, order=5):\n",
    "    b, a = butter_bandpass(lowcut, highcut, fs, order=order)\n",
    "    y = signal.lfilter(b, a, data)\n",
    "    return y"
   ]
  },
  {
   "cell_type": "markdown",
   "metadata": {},
   "source": [
    "#### 3. Diffrentiate the Signal: to augment the gap between the signal and the noise (QRS becomes larger and noise becomes smaller)"
   ]
  },
  {
   "cell_type": "code",
   "execution_count": 11,
   "metadata": {},
   "outputs": [],
   "source": [
    "def Def5point(f, Data):\n",
    "    t = 1/f \n",
    "    y =list()\n",
    "    y.append(Data[0])\n",
    "    y.append(Data[1])\n",
    "\n",
    "    for x in range(2, len(Data)-2):\n",
    "        const = 1/(8*t)\n",
    "        temp_before= - Data[x-2] - 2*Data[x-1]\n",
    "        temp_after = 2*Data[x+1] + Data[x+2]\n",
    "        \n",
    "        y.append(temp_after+temp_before)\n",
    "        \n",
    "    y.append(Data[len(Data)-2])\n",
    "    y.append(Data[len(Data)-1])\n",
    "    return y\n",
    "        \n",
    "        \n",
    "    "
   ]
  },
  {
   "cell_type": "markdown",
   "metadata": {},
   "source": [
    "#### 4. Smoothing the signal"
   ]
  },
  {
   "cell_type": "code",
   "execution_count": 12,
   "metadata": {},
   "outputs": [],
   "source": [
    "# testing the function in lecture\n",
    "def smoothing(f,Data, window_length):\n",
    "    t = 1/f\n",
    "    y=list()\n",
    "    y.append(Data[0:window_length]) #append first N-1 elements in the data \n",
    "    \n",
    "    for x in range(window_length-1,len(Data)-1):\n",
    "        data_slice = Data[x-window_length:x+1] # take a slice of data from x-N till N \n",
    "        average = np.average(data_slice)\n",
    "        y.append(y)\n",
    "        print(x)\n",
    "    return y"
   ]
  },
  {
   "cell_type": "code",
   "execution_count": 13,
   "metadata": {},
   "outputs": [],
   "source": [
    "def smooth_signal(data, sample_rate, window_length=None, polyorder=3):\n",
    "    '''smooths given signal using savitzky-golay filter\n",
    "\n",
    "    Function that smooths data using savitzky-golay filter using default settings.\n",
    "\n",
    "    Functionality requested by Eirik Svendsen. Added since 1.2.4\n",
    "\n",
    "    Parameters\n",
    "    ----------\n",
    "    data : 1d array or list\n",
    "        array or list containing the data to be filtered\n",
    "\n",
    "    sample_rate : int or float\n",
    "        the sample rate with which data is sampled\n",
    "\n",
    "    window_length : int or None\n",
    "        window length parameter for savitzky-golay filter, see Scipy.signal.savgol_filter docs.\n",
    "        Must be odd, if an even int is given, one will be added to make it uneven.\n",
    "        default : 0.1  * sample_rate\n",
    "\n",
    "    polyorder : int\n",
    "        the order of the polynomial fitted to the signal. See scipy.signal.savgol_filter docs.\n",
    "        default : 3\n",
    "\n",
    "    Returns\n",
    "    -------\n",
    "    smoothed : 1d array\n",
    "        array containing the smoothed data\n",
    "\n",
    "    Examples\n",
    "    --------\n",
    "    Given a fictional signal, a smoothed signal can be obtained by smooth_signal():\n",
    "\n",
    "    >>> x = [1, 3, 4, 5, 6, 7, 5, 3, 1, 1]\n",
    "    >>> smoothed = smooth_signal(x, sample_rate = 2, window_length=4, polyorder=2)\n",
    "    >>> np.around(smoothed[0:4], 3)\n",
    "    array([1.114, 2.743, 4.086, 5.   ])\n",
    "\n",
    "    If you don't specify the window_length, it is computed to be 10% of the \n",
    "    sample rate (+1 if needed to make odd)\n",
    "    >>> import heartpy as hp\n",
    "    >>> data, timer = hp.load_exampledata(0)\n",
    "    >>> smoothed = smooth_signal(data, sample_rate = 100)\n",
    "\n",
    "    '''\n",
    "\n",
    "    if window_length == None:\n",
    "        window_length = sample_rate // 10\n",
    "        \n",
    "    if window_length % 2 == 0 or window_length == 0: window_length += 1\n",
    "\n",
    "    smoothed = signal.savgol_filter(data, window_length = window_length,\n",
    "                             polyorder = polyorder)\n",
    "\n",
    "    return smoothed"
   ]
  },
  {
   "cell_type": "markdown",
   "metadata": {},
   "source": [
    "To get the peaks of the signal\n",
    "We first compute the average of the signal (max(s) + min(s) ) /2 \n",
    "next, we get a candidate threshold using that average.\n",
    "then we compute (75 or more)  percentile of the filtered signal (computing only the percentiles without the earlier step will result to a very low value that is not peak since most of the values are actually low and not peak ). \n",
    "\n",
    "Our observation: The threshold value is dependant on the window length, and for a better setting of a window length the threshold should be fine (which is 25 (the sample rate // 10)). \n"
   ]
  },
  {
   "cell_type": "code",
   "execution_count": 14,
   "metadata": {},
   "outputs": [],
   "source": [
    "def getRPeaks(filtered_signal, N):\n",
    "    avg_signal = (min(filtered_signal) +max(filtered_signal))/2\n",
    "    peaks, _ = signal.find_peaks(filtered_signal, height=avg_signal,distance=N)\n",
    "    \n",
    "    #print(\"before\",peaks.shape)\n",
    "    peaks = peaks[1:len(peaks)]\n",
    "    #print(\"after\",peaks.shape)\n",
    "\n",
    "\n",
    "    threshold2 = np.percentile(filtered_signal, 90,axis=0)\n",
    "    #print(\"threshold2\", threshold2)\n",
    "    peaks, _ = signal.find_peaks(filtered_signal, height=threshold2, distance=25)\n",
    "    #print(peaks.shape)\n",
    "  #  eng.plot(matlab.double(filtered_signal.tolist()), '-*' , 'MarkerIndices', matlab.double(peaks.tolist())) \n",
    "    \n",
    "    return peaks\n",
    "   "
   ]
  },
  {
   "cell_type": "code",
   "execution_count": 15,
   "metadata": {},
   "outputs": [],
   "source": [
    "def calculateRR (peaks,fs):\n",
    "    RR = np.diff(peaks)\n",
    "    RR = RR/fs\n",
    "    RRms = np.multiply(RR,1000)\n",
    "    #print(\"RR\",RR)\n",
    "    beats = np.arange(1,len(peaks),1)\n",
    "    eng.plot(matlab.double(beats.tolist()),matlab.double(RRms.tolist()))  #create a plot\n",
    "    eng.xlabel('Beats number') \n",
    "    eng.ylabel('Time in msecs') \n",
    "    eng.savefig(\"RR\"+\".fig\",nargout=0)    #save current figure to \"foo.fig\"\n",
    "    return RR"
   ]
  },
  {
   "cell_type": "code",
   "execution_count": 24,
   "metadata": {},
   "outputs": [],
   "source": [
    "def filterNoise(signal,fs ):\n",
    "    y = notch_filter(signal,49.9,50.1,fs,3)\n",
    "    #plot_fig(y, \"outputy\")\n",
    "    z = butter_bandpass_filter(y,0.1,45,fs)\n",
    "    \n",
    "    return z"
   ]
  },
  {
   "cell_type": "code",
   "execution_count": 75,
   "metadata": {},
   "outputs": [],
   "source": [
    "def detectQRS(N,fs,fileName,Noise_Filter = True ,Samples=None,output_filename=\"out\"):\n",
    "    \n",
    "    DataN = readData(fileName,Samples)\n",
    "    if (Samples is None):\n",
    "        Samples = len(DataN)\n",
    "        \n",
    "    time = np.arange(0,Samples*1/fs,1/fs)\n",
    "    timems = np.multiply(time,1000)\n",
    "    \n",
    "    #y = notch_filter(DataN,49.9,50.1,fs,3)\n",
    "    #z = butter_bandpass_filter(y,0.1,45,fs)\n",
    "    if(Noise_Filter):\n",
    "        u = filterNoise(DataN,fs)\n",
    "    else:\n",
    "        u = DataN\n",
    "   \n",
    "    u = Def5point(fs, u)\n",
    "\n",
    "    u = np.square(u)\n",
    "\n",
    "    u = smooth_signal(u,fs, window_length=N)\n",
    "    #u=smoothing(fs,u, window_length=N)\n",
    "    #plot_fig(u,\"out1\")\n",
    "    #plot_fig(timems,np.array(u),\"out1\")\n",
    "    \n",
    "    \n",
    "    peaks= getRPeaks(u,N)\n",
    "     \n",
    "    plot_fig(timems,u,output_filename,peaks)\n",
    "         \n",
    "    return peaks\n",
    "\n",
    "    \n"
   ]
  },
  {
   "cell_type": "code",
   "execution_count": 17,
   "metadata": {},
   "outputs": [],
   "source": [
    "def find_anomalies(random_data):\n",
    "    # Set upper and lower limit to 3 standard deviation\n",
    "    anomalies = []\n",
    "    beatNumbers=[]\n",
    "    random_data_std = np.std(random_data)\n",
    "    random_data_mean = np.mean(random_data)\n",
    "    anomaly_cut_off = random_data_std * 3\n",
    "    \n",
    "    lower_limit  = random_data_mean - anomaly_cut_off \n",
    "    upper_limit = random_data_mean + anomaly_cut_off\n",
    "    #print(lower_limit)\n",
    "    # Generate outliers\n",
    "    for x in range (0 ,len(random_data)):\n",
    "        outlier = random_data[x]\n",
    "        if outlier > upper_limit or outlier < lower_limit:\n",
    "            anomalies.append(outlier)\n",
    "            beatNumbers.append(x)\n",
    "    return anomalies,beatNumbers"
   ]
  },
  {
   "cell_type": "markdown",
   "metadata": {},
   "source": [
    "# Question 1 :"
   ]
  },
  {
   "cell_type": "code",
   "execution_count": 25,
   "metadata": {
    "scrolled": false
   },
   "outputs": [],
   "source": [
    "fileName = \"D:\\GUC\\Semester 10\\CSEN 1099 - Biomedical\\Assignments\\Assignment 1\\DataN.txt\""
   ]
  },
  {
   "cell_type": "markdown",
   "metadata": {},
   "source": [
    "##### Requirement 1 : Comparing Before and After Filter Changes: "
   ]
  },
  {
   "cell_type": "code",
   "execution_count": 64,
   "metadata": {},
   "outputs": [
    {
     "data": {
      "image/png": "[encoded data removed]",
      "text/plain": [
       "<Figure size 432x288 with 2 Axes>"
      ]
     },
     "metadata": {
      "needs_background": "light"
     },
     "output_type": "display_data"
    },
    {
     "data": {
      "text/plain": [
       "<Figure size 432x288 with 0 Axes>"
      ]
     },
     "metadata": {},
     "output_type": "display_data"
    }
   ],
   "source": [
    "fs = 256\n",
    "Samples = 2000\n",
    "signal_before = readData(fileName,N=Samples)\n",
    "time = np.arange(0,Samples*1/fs,1/fs)\n",
    "timems = np.multiply(time,1000)\n",
    "filtered = filterNoise(signal_before,fs)\n",
    "\n",
    "fig, axes = plt.subplots(nrows=2, ncols=1)\n",
    "fig.tight_layout() # Or equivalently,  \"plt.tight_layout()\"\n",
    "\n",
    "#plt.figure()\n",
    "plt.subplot(211)\n",
    "plt.plot(timems, signal_before)\n",
    "plt.title('Before')\n",
    "\n",
    "plt.subplot(212)\n",
    "plt.plot(timems, filtered)\n",
    "plt.title('After')\n",
    "plt.show()\n",
    "plt.draw()\n",
    "fig.savefig('Before_After_Filter.png')\n",
    "im = Image.open('Before_After_Filter.png')\n",
    "im = im.convert(\"RGB\")\n",
    "im.save('Before_After_Filter.jpg')\n",
    "#plt.savefig('Before_After_Filter.jpg')"
   ]
  },
  {
   "cell_type": "markdown",
   "metadata": {},
   "source": [
    "##### Requirement 2 : Using N=5 for the window length "
   ]
  },
  {
   "cell_type": "code",
   "execution_count": 68,
   "metadata": {},
   "outputs": [],
   "source": [
    "Samples = 2000\n",
    "fs= 256\n",
    "N =  5\n",
    "outputfileName = 'DetectedR_5'\n",
    "Rpeaks = detectQRS(N,fs,fileName,Noise_Filter= True,Samples=Samples,output_filename=outputfileName)\n"
   ]
  },
  {
   "cell_type": "markdown",
   "metadata": {},
   "source": [
    "##### Requirement 3 : Using N=15 for the window length "
   ]
  },
  {
   "cell_type": "code",
   "execution_count": 69,
   "metadata": {},
   "outputs": [],
   "source": [
    "Samples = 2000\n",
    "fs= 256\n",
    "N =  15\n",
    "outputfileName = 'DetectedR_15'\n",
    "Rpeaks = detectQRS(N,fs,fileName,Noise_Filter= True,Samples=Samples,output_filename=outputfileName)"
   ]
  },
  {
   "cell_type": "markdown",
   "metadata": {},
   "source": [
    "##### Requirement 4 : Using N=25 for the window length "
   ]
  },
  {
   "cell_type": "code",
   "execution_count": 79,
   "metadata": {},
   "outputs": [],
   "source": [
    "Samples = 2000\n",
    "fs= 256\n",
    "N =  25\n",
    "outputfileName = 'DetectedR_25'\n",
    "Rpeaks = detectQRS(N,fs,fileName,Noise_Filter= True,Samples=Samples,output_filename=outputfileName)"
   ]
  },
  {
   "cell_type": "markdown",
   "metadata": {},
   "source": [
    "#### When we observed the past 3 figures to compare the different N values used, we concluded that the best N to use was the N = 25. N=25 resulted in the correct R peaks however, the N=15 and N=25 had faulty peaks when plotted. This is due to the sampling rate of this signal which is 256Hz, where N = 25 is the most accurate when smoothing the signal. In other words N = 25 is approximately equal to the widest QRS complex occured in this ECG signal."
   ]
  },
  {
   "cell_type": "markdown",
   "metadata": {},
   "source": [
    "##### Requirement 5 : Using N = 25 for window length but with no filtering "
   ]
  },
  {
   "cell_type": "code",
   "execution_count": 84,
   "metadata": {},
   "outputs": [],
   "source": [
    "Samples = 2000\n",
    "fs= 256\n",
    "N =  25\n",
    "outputfileName = 'Unfiltered_25'\n",
    "Rpeaks = detectQRS(N,fs,fileName,Noise_Filter= False,Samples=Samples,output_filename=outputfileName)"
   ]
  },
  {
   "cell_type": "markdown",
   "metadata": {},
   "source": [
    "##### Requirement 6 : RR-plot Using N=5 for the window length "
   ]
  },
  {
   "cell_type": "code",
   "execution_count": 86,
   "metadata": {},
   "outputs": [],
   "source": [
    "Samples = 2000\n",
    "fs= 256\n",
    "N =  25\n",
    "outputfileName = 'RR'\n",
    "Rpeaks = detectQRS(N,fs,fileName,Noise_Filter= True,Samples=Samples,output_filename=outputfileName)\n",
    "RR = calculateRR(np.array(Rpeaks),256)"
   ]
  },
  {
   "cell_type": "markdown",
   "metadata": {},
   "source": [
    "# Question 2 :\n"
   ]
  },
  {
   "cell_type": "markdown",
   "metadata": {},
   "source": [
    "##### In this question, Missing beats should be identified for a patient of Sinus Arrest. Our approach was to use the function detectQRS to identify the QRS complex in Data2 samples. Secondly, we calculated the RR intervals between each consecutive R peaks detected. The find anomalies algorithm is then applied to detect outliers, in other words, when a beat is missed a higher RR interval is detected compared to other normal RR intervals therefore, it is identified as a missing beat. "
   ]
  },
  {
   "cell_type": "code",
   "execution_count": 87,
   "metadata": {},
   "outputs": [],
   "source": [
    "Filename2= \"D:\\GUC\\Semester 10\\CSEN 1099 - Biomedical\\Assignments\\Assignment 1\\Data2.txt\"\n",
    "OutputFilename= \"D:\\GUC\\Semester 10\\CSEN 1099 - Biomedical\\Assignments\\Assignment 1\\MissingBeats.txt\""
   ]
  },
  {
   "cell_type": "code",
   "execution_count": 95,
   "metadata": {},
   "outputs": [],
   "source": [
    "def detect_Sinus_Arrest(signal, window_length,fs=256 ):\n",
    "    Rpeaks = detectQRS(window_length,fs,Filename2, Noise_Filter = True, output_filename= 'sinus_arrest')\n",
    "    RR =calculateRR(np.array(Rpeaks),fs)\n",
    "    anomalies, beatNumbers = find_anomalies(RR)\n",
    "    print(beatNumbers)\n",
    "    timeStamps = np.multiply(beatNumbers,(1/fs))\n",
    "\n",
    "    return timeStamps,beatNumbers\n",
    "    "
   ]
  },
  {
   "cell_type": "code",
   "execution_count": 96,
   "metadata": {},
   "outputs": [
    {
     "name": "stdout",
     "output_type": "stream",
     "text": [
      "[4, 9, 21]\n",
      "time Stamps of the missing beats: [0.015625   0.03515625 0.08203125]\n"
     ]
    }
   ],
   "source": [
    "\n",
    "fs = 256\n",
    "N= 25\n",
    "data = readData(Filename2)\n",
    "\n",
    "timeStamps,beatNumbers = detect_Sinus_Arrest(signal=data,window_length=N)\n",
    "print(\"time Stamps of the missing beats:\" , timeStamps)\n",
    "writeFile(OutputFilename,beatNumbers,timeStamps)\n"
   ]
  },
  {
   "cell_type": "code",
   "execution_count": null,
   "metadata": {},
   "outputs": [],
   "source": []
  }
 ],
 "metadata": {
  "kernelspec": {
   "display_name": "Python 3",
   "language": "python",
   "name": "python3"
  },
  "language_info": {
   "codemirror_mode": {
    "name": "ipython",
    "version": 3
   },
   "file_extension": ".py",
   "mimetype": "text/x-python",
   "name": "python",
   "nbconvert_exporter": "python",
   "pygments_lexer": "ipython3",
   "version": "3.7.6"
  }
 },
 "nbformat": 4,
 "nbformat_minor": 2
}
